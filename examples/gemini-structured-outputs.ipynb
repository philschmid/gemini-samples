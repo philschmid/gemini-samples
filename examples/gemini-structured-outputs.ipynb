{
 "cells": [
  {
   "cell_type": "markdown",
   "metadata": {},
   "source": [
    "# Google Gemini with Pydantic for Structured Output\n",
    "\n",
    "Gemini models can generate structured output in JSON format, which is useful for applications that require a specific data schema. You can define this schema using Pydantic and pass it to the Gemini API to ensure the model returns data in the expected structure. This is useful for a variety of applications, such as extracting information from text or images.\n",
    "\n",
    "You can learn more about structured output with Gemini here:\n",
    "[https://ai.google.dev/gemini-api/docs/structured-output](https://ai.google.dev/gemini-api/docs/structured-output)"
   ]
  },
  {
   "cell_type": "code",
   "execution_count": null,
   "metadata": {},
   "outputs": [],
   "source": [
    "%pip install google-genai pydantic"
   ]
  },
  {
   "cell_type": "code",
   "execution_count": 11,
   "metadata": {},
   "outputs": [
    {
     "data": {
      "text/plain": [
       "[Recipe(recipe_name='Chocolate Chip Cookies', ingredients=[Ingredient(name='butter', quantity='1', unit='cup'), Ingredient(name='sugar', quantity='1', unit='cup'), Ingredient(name='brown sugar', quantity='1', unit='cup'), Ingredient(name='eggs', quantity='2', unit=''), Ingredient(name='vanilla extract', quantity='1', unit='tsp'), Ingredient(name='baking soda', quantity='1', unit='tsp'), Ingredient(name='salt', quantity='1', unit='tsp'), Ingredient(name='flour', quantity='3', unit='cups'), Ingredient(name='chocolate chips', quantity='2', unit='cups')]),\n",
       " Recipe(recipe_name='Sugar Cookies', ingredients=[Ingredient(name='butter', quantity='1', unit='cup'), Ingredient(name='sugar', quantity='1', unit='cup'), Ingredient(name='eggs', quantity='1', unit=''), Ingredient(name='vanilla extract', quantity='1', unit='tsp'), Ingredient(name='flour', quantity='2 1/4', unit='cups'), Ingredient(name='baking powder', quantity='1', unit='tsp'), Ingredient(name='salt', quantity='1/2', unit='tsp')]),\n",
       " Recipe(recipe_name='Peanut Butter Cookies', ingredients=[Ingredient(name='peanut butter', quantity='1', unit='cup'), Ingredient(name='sugar', quantity='1', unit='cup'), Ingredient(name='egg', quantity='1', unit='')])]"
      ]
     },
     "execution_count": 11,
     "metadata": {},
     "output_type": "execute_result"
    }
   ],
   "source": [
    "import os\n",
    "from google import genai\n",
    "from pydantic import BaseModel\n",
    "\n",
    "# create client\n",
    "client = genai.Client(api_key=os.getenv(\"GEMINI_API_KEY\",\"xxx\"))\n",
    "\n",
    "\n",
    "# Define Pydantic schemas \n",
    "class Ingredient(BaseModel):\n",
    "  name: str\n",
    "  quantity: str\n",
    "  unit: str\n",
    "\n",
    "class Recipe(BaseModel):\n",
    "  recipe_name: str\n",
    "  ingredients: list[Ingredient]\n",
    "\n",
    "\n",
    "# Generate a list of cookie recipes\n",
    "response = client.models.generate_content(\n",
    "    model='gemini-2.0-flash-lite',\n",
    "    contents='List a few popular cookie recipes.',\n",
    "    config={\n",
    "        'response_mime_type': 'application/json',\n",
    "        'response_schema': list[Recipe],\n",
    "    },\n",
    ")\n",
    "# Use the parsed response\n",
    "recipes: list[Recipe] = response.parsed\n",
    "recipes"
   ]
  },
  {
   "cell_type": "code",
   "execution_count": null,
   "metadata": {},
   "outputs": [],
   "source": []
  }
 ],
 "metadata": {
  "kernelspec": {
   "display_name": ".venv",
   "language": "python",
   "name": "python3"
  },
  "language_info": {
   "codemirror_mode": {
    "name": "ipython",
    "version": 3
   },
   "file_extension": ".py",
   "mimetype": "text/x-python",
   "name": "python",
   "nbconvert_exporter": "python",
   "pygments_lexer": "ipython3",
   "version": "3.11.11"
  }
 },
 "nbformat": 4,
 "nbformat_minor": 2
}
